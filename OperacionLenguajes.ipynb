{
  "nbformat": 4,
  "nbformat_minor": 0,
  "metadata": {
    "colab": {
      "provenance": []
    },
    "kernelspec": {
      "name": "python3",
      "display_name": "Python 3"
    },
    "language_info": {
      "name": "python"
    }
  },
  "cells": [
    {
      "cell_type": "code",
      "execution_count": null,
      "metadata": {
        "id": "Q3DgyDHo4Z5a"
      },
      "outputs": [],
      "source": [
        "import pandas as pd\n",
        "lenguaje1 = [\"rata\", \"pata\", \"tata\", \"sopa\", \"otra\", \"uno\", \"sumo\"]\n",
        "lenguaje2 = [\"ad\", \"bad\", \"dad\", \"sad\", \"tat\", \"mac\", \"otra\", \"uno\", \"tata\"]\n",
        "lenguaje3 = [\"coco\", \"loco\", \"pata\", \"rata\", \"otra\", \"sumo\"]"
      ]
    },
    {
      "cell_type": "code",
      "source": [
        "def invertir_cadena(cadena):\n",
        "    return cadena[::-1]"
      ],
      "metadata": {
        "id": "hWLQygTnL2aq"
      },
      "execution_count": null,
      "outputs": []
    },
    {
      "cell_type": "markdown",
      "source": [
        "**FUNCIONES PARA LAS OPERACIONES CON LENGUAJES**"
      ],
      "metadata": {
        "id": "QZNxOTmPCQIR"
      }
    },
    {
      "cell_type": "code",
      "source": [
        "def union(l1, l2):\n",
        "  resultado = []\n",
        "  for x in l1:\n",
        "    resultado.append(x)\n",
        "  for y in l2:\n",
        "    resultado.append(y)\n",
        "  return pd.unique(resultado)"
      ],
      "metadata": {
        "id": "X8BG4_UY4_tp"
      },
      "execution_count": null,
      "outputs": []
    },
    {
      "cell_type": "code",
      "source": [
        "def interseccion(l1, l2):\n",
        "  resultado = []\n",
        "  for x in l1:\n",
        "    for y in l2:\n",
        "      if(x == y):\n",
        "        resultado.append(x)\n",
        "  return pd.unique(resultado)"
      ],
      "metadata": {
        "id": "Vu6qgWbeCPQr"
      },
      "execution_count": null,
      "outputs": []
    },
    {
      "cell_type": "code",
      "source": [
        "def diferencia(l1, l2):\n",
        "  resultado = []\n",
        "  for x in l1:\n",
        "    if not x in l2:\n",
        "      resultado.append(x)\n",
        "      \n",
        "  return pd.unique(resultado)"
      ],
      "metadata": {
        "id": "wPWLDj8zCjt3"
      },
      "execution_count": null,
      "outputs": []
    },
    {
      "cell_type": "code",
      "source": [
        "def concatenacion(l1, l2):\n",
        "  resultado = []\n",
        "  for x in l1:\n",
        "    for y in l2:\n",
        "        resultado.append(x+y)\n",
        "  return pd.unique(resultado)"
      ],
      "metadata": {
        "id": "eP0FsMCCIbx2"
      },
      "execution_count": null,
      "outputs": []
    },
    {
      "cell_type": "code",
      "source": [
        "def potencia(l1, n):\n",
        "  resultado = []\n",
        "  for i in range(n):\n",
        "    if (len(resultado) == 0):\n",
        "      resultado = concatenacion(l1,l1);\n",
        "    else:\n",
        "      resultado = concatenacion(l1, resultado);\n",
        "  return pd.unique(resultado)"
      ],
      "metadata": {
        "id": "9kUL-T7jJecK"
      },
      "execution_count": null,
      "outputs": []
    },
    {
      "cell_type": "code",
      "source": [
        "def reflexion(l1):\n",
        "  resultado = []\n",
        "  for x in l1:\n",
        "    resultado.append(invertir_cadena(x))\n",
        "  resultado.reverse()\n",
        "  return resultado"
      ],
      "metadata": {
        "id": "xBhFOedxL6Rk"
      },
      "execution_count": null,
      "outputs": []
    },
    {
      "cell_type": "code",
      "source": [
        "def cierre(l1, n):\n",
        "  resultado = []\n",
        "  for i in range(n):\n",
        "      if(len(resultado) == 0):\n",
        "        resultado = l1\n",
        "      else:\n",
        "        resultado = union(resultado,potencia(l1,i))\n",
        "  return pd.unique(resultado)\n",
        "    "
      ],
      "metadata": {
        "id": "Fn4bJbz0QOc-"
      },
      "execution_count": null,
      "outputs": []
    },
    {
      "cell_type": "code",
      "source": [
        "def positiva(l1, n):\n",
        "  resultado = []\n",
        "  for i in range(n):\n",
        "      resultado = union(resultado,potencia(l1,i))\n",
        "  return pd.unique(resultado)"
      ],
      "metadata": {
        "id": "PpSSyygJT1vi"
      },
      "execution_count": null,
      "outputs": []
    },
    {
      "cell_type": "markdown",
      "source": [
        "**OPERACIONES**"
      ],
      "metadata": {
        "id": "853rMU0GC0nb"
      }
    },
    {
      "cell_type": "markdown",
      "source": [
        "Unión"
      ],
      "metadata": {
        "id": "IRiTEBZPDynr"
      }
    },
    {
      "cell_type": "code",
      "source": [
        "L1uL2 = union(lenguaje1,lenguaje2)\n",
        "print(\"L1 u L2 = {\" + ','.join(L1uL2) + \"}\")\n",
        "print(\"|L1 u L2| = \" + str(len(L1uL2)))\n",
        "L2uL3 = union(lenguaje2,lenguaje3)\n",
        "print(\"L2 u L3 = {\" + ','.join(L2uL3) + \"}\")\n",
        "print(\"|L2 u L3| = \" + str(len(L2uL3)))\n",
        "L1uL3 = union(L1uL2,lenguaje3)\n",
        "print(\"L1 u L2 u L3 = {\" + ','.join(L1uL3) + \"}\")\n",
        "print(\"|L1 u L2 u L3| = \" + str(len(L1uL3)))"
      ],
      "metadata": {
        "colab": {
          "base_uri": "https://localhost:8080/"
        },
        "id": "PhfWEqIYC2-V",
        "outputId": "83227237-05e7-4410-c878-3fd22b82d11b"
      },
      "execution_count": null,
      "outputs": [
        {
          "output_type": "stream",
          "name": "stdout",
          "text": [
            "L1 u L2 = {rata,pata,tata,sopa,otra,uno,sumo,ad,bad,dad,sad,tat,mac}\n",
            "|L1 u L2| = 13\n",
            "L2 u L3 = {ad,bad,dad,sad,tat,mac,otra,uno,tata,coco,loco,pata,rata,sumo}\n",
            "|L2 u L3| = 14\n",
            "L1 u L2 u L3 = {rata,pata,tata,sopa,otra,uno,sumo,ad,bad,dad,sad,tat,mac,coco,loco}\n",
            "|L1 u L2 u L3| = 15\n"
          ]
        }
      ]
    },
    {
      "cell_type": "markdown",
      "source": [
        "Intersección"
      ],
      "metadata": {
        "id": "jcnIBqdAEVoz"
      }
    },
    {
      "cell_type": "code",
      "source": [
        "L1nL2 = interseccion(lenguaje1,lenguaje2)\n",
        "print(\"L1 n L2 = {\" + ','.join(L1nL2) + \"}\")\n",
        "print(\"|L1 n L2| = \" + str(len(L1nL2)))\n",
        "L2nL3 = interseccion(lenguaje2,lenguaje3)\n",
        "print(\"L2 n L3 = {\" + ','.join(L2nL3) + \"}\")\n",
        "print(\"|L2 n L3| = \" + str(len(L2nL3)))\n",
        "L1nL3 = interseccion(lenguaje1,lenguaje3)\n",
        "print(\"L1 n L3 = {\" + ','.join(L1nL3) + \"}\")\n",
        "print(\"|L1 n L3| = \" + str(len(L1nL3)))"
      ],
      "metadata": {
        "colab": {
          "base_uri": "https://localhost:8080/"
        },
        "id": "p_rY4Nu2EXtM",
        "outputId": "29634fcd-0696-4ad1-81b4-7c7a127da81d"
      },
      "execution_count": null,
      "outputs": [
        {
          "output_type": "stream",
          "name": "stdout",
          "text": [
            "L1 n L2 = {tata,otra,uno}\n",
            "|L1 n L2| = 3\n",
            "L2 n L3 = {otra}\n",
            "|L2 n L3| = 1\n",
            "L1 n L3 = {rata,pata,otra,sumo}\n",
            "|L1 n L3| = 4\n"
          ]
        }
      ]
    },
    {
      "cell_type": "markdown",
      "source": [
        "Diferencia"
      ],
      "metadata": {
        "id": "MxK9AtC2EkW0"
      }
    },
    {
      "cell_type": "code",
      "source": [
        "L1minusL2 = diferencia(lenguaje1,lenguaje2)\n",
        "print(\"L1 - L2 = {\" + ','.join(L1minusL2) + \"}\")\n",
        "print(\"|L1 - L2| = \" + str(len(L1minusL2)))\n",
        "L2minusL1 = diferencia(lenguaje2,lenguaje1)\n",
        "print(\"L2 - L1 = {\" + ','.join(L2minusL1) + \"}\")\n",
        "print(\"|L2 - L1| = \" + str(len(L2minusL1)))\n",
        "L3minusL1 = diferencia(lenguaje3,lenguaje1)\n",
        "print(\"L3 - L1 = {\" + ','.join(L3minusL1) + \"}\")\n",
        "print(\"|L3 - L1| = \" + str(len(L3minusL1)))"
      ],
      "metadata": {
        "colab": {
          "base_uri": "https://localhost:8080/"
        },
        "id": "fCAbj6u0ElxY",
        "outputId": "4bcea158-9522-439e-f36a-8d2a7f8688cb"
      },
      "execution_count": null,
      "outputs": [
        {
          "output_type": "stream",
          "name": "stdout",
          "text": [
            "L1 - L2 = {rata,pata,sopa,sumo}\n",
            "|L1 - L2| = 4\n",
            "L2 - L1 = {ad,bad,dad,sad,tat,mac}\n",
            "|L2 - L1| = 6\n",
            "L3 - L1 = {coco,loco}\n",
            "|L3 - L1| = 2\n"
          ]
        }
      ]
    },
    {
      "cell_type": "markdown",
      "source": [
        "Concatenación"
      ],
      "metadata": {
        "id": "oI0FZucFIj6m"
      }
    },
    {
      "cell_type": "code",
      "source": [
        "L1concatL2 = concatenacion(lenguaje1,lenguaje2)\n",
        "print(\"L1L2 = {\" + ','.join(L1concatL2) + \"}\")\n",
        "print(\"|L1L2| = \" + str(len(L1concatL2)))\n",
        "L2concatL3 = concatenacion(lenguaje2,lenguaje3)\n",
        "print(\"L2L3 = {\" + ','.join(L2concatL3) + \"}\")\n",
        "print(\"|L2L3| = \" + str(len(L2concatL3)))\n",
        "L1concatL3 = concatenacion(lenguaje1,lenguaje3)\n",
        "print(\"L1L3 = {\" + ','.join(L1concatL3) + \"}\")\n",
        "print(\"|L1L3| = \" + str(len(L1concatL3)))"
      ],
      "metadata": {
        "colab": {
          "base_uri": "https://localhost:8080/"
        },
        "id": "xFUcyZV0Ims5",
        "outputId": "00365a9e-36a6-4982-9018-3ed96616c044"
      },
      "execution_count": null,
      "outputs": [
        {
          "output_type": "stream",
          "name": "stdout",
          "text": [
            "L1L2 = {rataad,ratabad,ratadad,ratasad,ratatat,ratamac,rataotra,ratauno,ratatata,pataad,patabad,patadad,patasad,patatat,patamac,pataotra,patauno,patatata,tataad,tatabad,tatadad,tatasad,tatatat,tatamac,tataotra,tatauno,tatatata,sopaad,sopabad,sopadad,sopasad,sopatat,sopamac,sopaotra,sopauno,sopatata,otraad,otrabad,otradad,otrasad,otratat,otramac,otraotra,otrauno,otratata,unoad,unobad,unodad,unosad,unotat,unomac,unootra,unouno,unotata,sumoad,sumobad,sumodad,sumosad,sumotat,sumomac,sumootra,sumouno,sumotata}\n",
            "|L1L2| = 63\n",
            "L2L3 = {adcoco,adloco,adpata,adrata,adotra,adsumo,badcoco,badloco,badpata,badrata,badotra,badsumo,dadcoco,dadloco,dadpata,dadrata,dadotra,dadsumo,sadcoco,sadloco,sadpata,sadrata,sadotra,sadsumo,tatcoco,tatloco,tatpata,tatrata,tatotra,tatsumo,maccoco,macloco,macpata,macrata,macotra,macsumo,otracoco,otraloco,otrapata,otrarata,otraotra,otrasumo,unococo,unoloco,unopata,unorata,unootra,unosumo,tatacoco,tataloco,tatapata,tatarata,tataotra,tatasumo}\n",
            "|L2L3| = 54\n",
            "L1L3 = {ratacoco,rataloco,ratapata,ratarata,rataotra,ratasumo,patacoco,pataloco,patapata,patarata,pataotra,patasumo,tatacoco,tataloco,tatapata,tatarata,tataotra,tatasumo,sopacoco,sopaloco,sopapata,soparata,sopaotra,sopasumo,otracoco,otraloco,otrapata,otrarata,otraotra,otrasumo,unococo,unoloco,unopata,unorata,unootra,unosumo,sumococo,sumoloco,sumopata,sumorata,sumootra,sumosumo}\n",
            "|L1L3| = 42\n"
          ]
        }
      ]
    },
    {
      "cell_type": "markdown",
      "source": [
        "Potencia de las intersecciones al 4"
      ],
      "metadata": {
        "id": "AdVtp5myKn5H"
      }
    },
    {
      "cell_type": "code",
      "source": [
        "L1nL2al4 = potencia(L1nL2,4)\n",
        "print(\"(L1 n L2)^4 = {\" + ','.join(L1nL2al4) + \"}\")\n",
        "print(\"|(L1 n L2)^4| = \" + str(len(L1nL2al4)))\n",
        "L2nL3al4 = potencia(L2nL3,4)\n",
        "print(\"(L2 n L3)^4 = {\" + ','.join(L2nL3al4) + \"}\")\n",
        "print(\"|(L2 n L3)^4| = \" + str(len(L2nL3al4)))\n",
        "L1nL3al4 = potencia(L1nL3,4)\n",
        "print(\"(L1 n L3)^4 = {\" + ','.join(L1nL3al4) + \"}\")\n",
        "print(\"|(L1 n L3)^4| = \" + str(len(L1nL3al4)))"
      ],
      "metadata": {
        "colab": {
          "base_uri": "https://localhost:8080/"
        },
        "id": "2R8LOzNJKrKR",
        "outputId": "7a456a67-6cc3-457a-bc0c-0e135d1a0038"
      },
      "execution_count": null,
      "outputs": [
        {
          "output_type": "stream",
          "name": "stdout",
          "text": [
            "(L1 n L2)^4 = {tatatatatatatatatata,tatatatatatatataotra,tatatatatatatatauno,tatatatatataotratata,tatatatatataotraotra,tatatatatataotrauno,tatatatatataunotata,tatatatatataunootra,tatatatatataunouno,tatatataotratatatata,tatatataotratataotra,tatatataotratatauno,tatatataotraotratata,tatatataotraotraotra,tatatataotraotrauno,tatatataotraunotata,tatatataotraunootra,tatatataotraunouno,tatatataunotatatata,tatatataunotataotra,tatatataunotatauno,tatatataunootratata,tatatataunootraotra,tatatataunootrauno,tatatataunounotata,tatatataunounootra,tatatataunounouno,tataotratatatatatata,tataotratatatataotra,tataotratatatatauno,tataotratataotratata,tataotratataotraotra,tataotratataotrauno,tataotratataunotata,tataotratataunootra,tataotratataunouno,tataotraotratatatata,tataotraotratataotra,tataotraotratatauno,tataotraotraotratata,tataotraotraotraotra,tataotraotraotrauno,tataotraotraunotata,tataotraotraunootra,tataotraotraunouno,tataotraunotatatata,tataotraunotataotra,tataotraunotatauno,tataotraunootratata,tataotraunootraotra,tataotraunootrauno,tataotraunounotata,tataotraunounootra,tataotraunounouno,tataunotatatatatata,tataunotatatataotra,tataunotatatatauno,tataunotataotratata,tataunotataotraotra,tataunotataotrauno,tataunotataunotata,tataunotataunootra,tataunotataunouno,tataunootratatatata,tataunootratataotra,tataunootratatauno,tataunootraotratata,tataunootraotraotra,tataunootraotrauno,tataunootraunotata,tataunootraunootra,tataunootraunouno,tataunounotatatata,tataunounotataotra,tataunounotatauno,tataunounootratata,tataunounootraotra,tataunounootrauno,tataunounounotata,tataunounounootra,tataunounounouno,otratatatatatatatata,otratatatatatataotra,otratatatatatatauno,otratatatataotratata,otratatatataotraotra,otratatatataotrauno,otratatatataunotata,otratatatataunootra,otratatatataunouno,otratataotratatatata,otratataotratataotra,otratataotratatauno,otratataotraotratata,otratataotraotraotra,otratataotraotrauno,otratataotraunotata,otratataotraunootra,otratataotraunouno,otratataunotatatata,otratataunotataotra,otratataunotatauno,otratataunootratata,otratataunootraotra,otratataunootrauno,otratataunounotata,otratataunounootra,otratataunounouno,otraotratatatatatata,otraotratatatataotra,otraotratatatatauno,otraotratataotratata,otraotratataotraotra,otraotratataotrauno,otraotratataunotata,otraotratataunootra,otraotratataunouno,otraotraotratatatata,otraotraotratataotra,otraotraotratatauno,otraotraotraotratata,otraotraotraotraotra,otraotraotraotrauno,otraotraotraunotata,otraotraotraunootra,otraotraotraunouno,otraotraunotatatata,otraotraunotataotra,otraotraunotatauno,otraotraunootratata,otraotraunootraotra,otraotraunootrauno,otraotraunounotata,otraotraunounootra,otraotraunounouno,otraunotatatatatata,otraunotatatataotra,otraunotatatatauno,otraunotataotratata,otraunotataotraotra,otraunotataotrauno,otraunotataunotata,otraunotataunootra,otraunotataunouno,otraunootratatatata,otraunootratataotra,otraunootratatauno,otraunootraotratata,otraunootraotraotra,otraunootraotrauno,otraunootraunotata,otraunootraunootra,otraunootraunouno,otraunounotatatata,otraunounotataotra,otraunounotatauno,otraunounootratata,otraunounootraotra,otraunounootrauno,otraunounounotata,otraunounounootra,otraunounounouno,unotatatatatatatata,unotatatatatataotra,unotatatatatatauno,unotatatataotratata,unotatatataotraotra,unotatatataotrauno,unotatatataunotata,unotatatataunootra,unotatatataunouno,unotataotratatatata,unotataotratataotra,unotataotratatauno,unotataotraotratata,unotataotraotraotra,unotataotraotrauno,unotataotraunotata,unotataotraunootra,unotataotraunouno,unotataunotatatata,unotataunotataotra,unotataunotatauno,unotataunootratata,unotataunootraotra,unotataunootrauno,unotataunounotata,unotataunounootra,unotataunounouno,unootratatatatatata,unootratatatataotra,unootratatatatauno,unootratataotratata,unootratataotraotra,unootratataotrauno,unootratataunotata,unootratataunootra,unootratataunouno,unootraotratatatata,unootraotratataotra,unootraotratatauno,unootraotraotratata,unootraotraotraotra,unootraotraotrauno,unootraotraunotata,unootraotraunootra,unootraotraunouno,unootraunotatatata,unootraunotataotra,unootraunotatauno,unootraunootratata,unootraunootraotra,unootraunootrauno,unootraunounotata,unootraunounootra,unootraunounouno,unounotatatatatata,unounotatatataotra,unounotatatatauno,unounotataotratata,unounotataotraotra,unounotataotrauno,unounotataunotata,unounotataunootra,unounotataunouno,unounootratatatata,unounootratataotra,unounootratatauno,unounootraotratata,unounootraotraotra,unounootraotrauno,unounootraunotata,unounootraunootra,unounootraunouno,unounounotatatata,unounounotataotra,unounounotatauno,unounounootratata,unounounootraotra,unounounootrauno,unounounounotata,unounounounootra,unounounounouno}\n",
            "|(L1 n L2)^4| = 243\n",
            "(L2 n L3)^4 = {otraotraotraotraotra}\n",
            "|(L2 n L3)^4| = 1\n",
            "(L1 n L3)^4 = {rataratarataratarata,rataratarataratapata,ratarataratarataotra,rataratarataratasumo,ratarataratapatarata,ratarataratapatapata,ratarataratapataotra,ratarataratapatasumo,rataratarataotrarata,rataratarataotrapata,rataratarataotraotra,rataratarataotrasumo,ratarataratasumorata,ratarataratasumopata,ratarataratasumootra,ratarataratasumosumo,rataratapataratarata,rataratapataratapata,rataratapatarataotra,rataratapataratasumo,rataratapatapatarata,rataratapatapatapata,rataratapatapataotra,rataratapatapatasumo,rataratapataotrarata,rataratapataotrapata,rataratapataotraotra,rataratapataotrasumo,rataratapatasumorata,rataratapatasumopata,rataratapatasumootra,rataratapatasumosumo,ratarataotraratarata,ratarataotraratapata,ratarataotrarataotra,ratarataotraratasumo,ratarataotrapatarata,ratarataotrapatapata,ratarataotrapataotra,ratarataotrapatasumo,ratarataotraotrarata,ratarataotraotrapata,ratarataotraotraotra,ratarataotraotrasumo,ratarataotrasumorata,ratarataotrasumopata,ratarataotrasumootra,ratarataotrasumosumo,rataratasumoratarata,rataratasumoratapata,rataratasumorataotra,rataratasumoratasumo,rataratasumopatarata,rataratasumopatapata,rataratasumopataotra,rataratasumopatasumo,rataratasumootrarata,rataratasumootrapata,rataratasumootraotra,rataratasumootrasumo,rataratasumosumorata,rataratasumosumopata,rataratasumosumootra,rataratasumosumosumo,ratapatarataratarata,ratapatarataratapata,ratapataratarataotra,ratapatarataratasumo,ratapataratapatarata,ratapataratapatapata,ratapataratapataotra,ratapataratapatasumo,ratapatarataotrarata,ratapatarataotrapata,ratapatarataotraotra,ratapatarataotrasumo,ratapataratasumorata,ratapataratasumopata,ratapataratasumootra,ratapataratasumosumo,ratapatapataratarata,ratapatapataratapata,ratapatapatarataotra,ratapatapataratasumo,ratapatapatapatarata,ratapatapatapatapata,ratapatapatapataotra,ratapatapatapatasumo,ratapatapataotrarata,ratapatapataotrapata,ratapatapataotraotra,ratapatapataotrasumo,ratapatapatasumorata,ratapatapatasumopata,ratapatapatasumootra,ratapatapatasumosumo,ratapataotraratarata,ratapataotraratapata,ratapataotrarataotra,ratapataotraratasumo,ratapataotrapatarata,ratapataotrapatapata,ratapataotrapataotra,ratapataotrapatasumo,ratapataotraotrarata,ratapataotraotrapata,ratapataotraotraotra,ratapataotraotrasumo,ratapataotrasumorata,ratapataotrasumopata,ratapataotrasumootra,ratapataotrasumosumo,ratapatasumoratarata,ratapatasumoratapata,ratapatasumorataotra,ratapatasumoratasumo,ratapatasumopatarata,ratapatasumopatapata,ratapatasumopataotra,ratapatasumopatasumo,ratapatasumootrarata,ratapatasumootrapata,ratapatasumootraotra,ratapatasumootrasumo,ratapatasumosumorata,ratapatasumosumopata,ratapatasumosumootra,ratapatasumosumosumo,rataotrarataratarata,rataotrarataratapata,rataotraratarataotra,rataotrarataratasumo,rataotraratapatarata,rataotraratapatapata,rataotraratapataotra,rataotraratapatasumo,rataotrarataotrarata,rataotrarataotrapata,rataotrarataotraotra,rataotrarataotrasumo,rataotraratasumorata,rataotraratasumopata,rataotraratasumootra,rataotraratasumosumo,rataotrapataratarata,rataotrapataratapata,rataotrapatarataotra,rataotrapataratasumo,rataotrapatapatarata,rataotrapatapatapata,rataotrapatapataotra,rataotrapatapatasumo,rataotrapataotrarata,rataotrapataotrapata,rataotrapataotraotra,rataotrapataotrasumo,rataotrapatasumorata,rataotrapatasumopata,rataotrapatasumootra,rataotrapatasumosumo,rataotraotraratarata,rataotraotraratapata,rataotraotrarataotra,rataotraotraratasumo,rataotraotrapatarata,rataotraotrapatapata,rataotraotrapataotra,rataotraotrapatasumo,rataotraotraotrarata,rataotraotraotrapata,rataotraotraotraotra,rataotraotraotrasumo,rataotraotrasumorata,rataotraotrasumopata,rataotraotrasumootra,rataotraotrasumosumo,rataotrasumoratarata,rataotrasumoratapata,rataotrasumorataotra,rataotrasumoratasumo,rataotrasumopatarata,rataotrasumopatapata,rataotrasumopataotra,rataotrasumopatasumo,rataotrasumootrarata,rataotrasumootrapata,rataotrasumootraotra,rataotrasumootrasumo,rataotrasumosumorata,rataotrasumosumopata,rataotrasumosumootra,rataotrasumosumosumo,ratasumorataratarata,ratasumorataratapata,ratasumoratarataotra,ratasumorataratasumo,ratasumoratapatarata,ratasumoratapatapata,ratasumoratapataotra,ratasumoratapatasumo,ratasumorataotrarata,ratasumorataotrapata,ratasumorataotraotra,ratasumorataotrasumo,ratasumoratasumorata,ratasumoratasumopata,ratasumoratasumootra,ratasumoratasumosumo,ratasumopataratarata,ratasumopataratapata,ratasumopatarataotra,ratasumopataratasumo,ratasumopatapatarata,ratasumopatapatapata,ratasumopatapataotra,ratasumopatapatasumo,ratasumopataotrarata,ratasumopataotrapata,ratasumopataotraotra,ratasumopataotrasumo,ratasumopatasumorata,ratasumopatasumopata,ratasumopatasumootra,ratasumopatasumosumo,ratasumootraratarata,ratasumootraratapata,ratasumootrarataotra,ratasumootraratasumo,ratasumootrapatarata,ratasumootrapatapata,ratasumootrapataotra,ratasumootrapatasumo,ratasumootraotrarata,ratasumootraotrapata,ratasumootraotraotra,ratasumootraotrasumo,ratasumootrasumorata,ratasumootrasumopata,ratasumootrasumootra,ratasumootrasumosumo,ratasumosumoratarata,ratasumosumoratapata,ratasumosumorataotra,ratasumosumoratasumo,ratasumosumopatarata,ratasumosumopatapata,ratasumosumopataotra,ratasumosumopatasumo,ratasumosumootrarata,ratasumosumootrapata,ratasumosumootraotra,ratasumosumootrasumo,ratasumosumosumorata,ratasumosumosumopata,ratasumosumosumootra,ratasumosumosumosumo,pataratarataratarata,pataratarataratapata,patarataratarataotra,pataratarataratasumo,patarataratapatarata,patarataratapatapata,patarataratapataotra,patarataratapatasumo,pataratarataotrarata,pataratarataotrapata,pataratarataotraotra,pataratarataotrasumo,patarataratasumorata,patarataratasumopata,patarataratasumootra,patarataratasumosumo,pataratapataratarata,pataratapataratapata,pataratapatarataotra,pataratapataratasumo,pataratapatapatarata,pataratapatapatapata,pataratapatapataotra,pataratapatapatasumo,pataratapataotrarata,pataratapataotrapata,pataratapataotraotra,pataratapataotrasumo,pataratapatasumorata,pataratapatasumopata,pataratapatasumootra,pataratapatasumosumo,patarataotraratarata,patarataotraratapata,patarataotrarataotra,patarataotraratasumo,patarataotrapatarata,patarataotrapatapata,patarataotrapataotra,patarataotrapatasumo,patarataotraotrarata,patarataotraotrapata,patarataotraotraotra,patarataotraotrasumo,patarataotrasumorata,patarataotrasumopata,patarataotrasumootra,patarataotrasumosumo,pataratasumoratarata,pataratasumoratapata,pataratasumorataotra,pataratasumoratasumo,pataratasumopatarata,pataratasumopatapata,pataratasumopataotra,pataratasumopatasumo,pataratasumootrarata,pataratasumootrapata,pataratasumootraotra,pataratasumootrasumo,pataratasumosumorata,pataratasumosumopata,pataratasumosumootra,pataratasumosumosumo,patapatarataratarata,patapatarataratapata,patapataratarataotra,patapatarataratasumo,patapataratapatarata,patapataratapatapata,patapataratapataotra,patapataratapatasumo,patapatarataotrarata,patapatarataotrapata,patapatarataotraotra,patapatarataotrasumo,patapataratasumorata,patapataratasumopata,patapataratasumootra,patapataratasumosumo,patapatapataratarata,patapatapataratapata,patapatapatarataotra,patapatapataratasumo,patapatapatapatarata,patapatapatapatapata,patapatapatapataotra,patapatapatapatasumo,patapatapataotrarata,patapatapataotrapata,patapatapataotraotra,patapatapataotrasumo,patapatapatasumorata,patapatapatasumopata,patapatapatasumootra,patapatapatasumosumo,patapataotraratarata,patapataotraratapata,patapataotrarataotra,patapataotraratasumo,patapataotrapatarata,patapataotrapatapata,patapataotrapataotra,patapataotrapatasumo,patapataotraotrarata,patapataotraotrapata,patapataotraotraotra,patapataotraotrasumo,patapataotrasumorata,patapataotrasumopata,patapataotrasumootra,patapataotrasumosumo,patapatasumoratarata,patapatasumoratapata,patapatasumorataotra,patapatasumoratasumo,patapatasumopatarata,patapatasumopatapata,patapatasumopataotra,patapatasumopatasumo,patapatasumootrarata,patapatasumootrapata,patapatasumootraotra,patapatasumootrasumo,patapatasumosumorata,patapatasumosumopata,patapatasumosumootra,patapatasumosumosumo,pataotrarataratarata,pataotrarataratapata,pataotraratarataotra,pataotrarataratasumo,pataotraratapatarata,pataotraratapatapata,pataotraratapataotra,pataotraratapatasumo,pataotrarataotrarata,pataotrarataotrapata,pataotrarataotraotra,pataotrarataotrasumo,pataotraratasumorata,pataotraratasumopata,pataotraratasumootra,pataotraratasumosumo,pataotrapataratarata,pataotrapataratapata,pataotrapatarataotra,pataotrapataratasumo,pataotrapatapatarata,pataotrapatapatapata,pataotrapatapataotra,pataotrapatapatasumo,pataotrapataotrarata,pataotrapataotrapata,pataotrapataotraotra,pataotrapataotrasumo,pataotrapatasumorata,pataotrapatasumopata,pataotrapatasumootra,pataotrapatasumosumo,pataotraotraratarata,pataotraotraratapata,pataotraotrarataotra,pataotraotraratasumo,pataotraotrapatarata,pataotraotrapatapata,pataotraotrapataotra,pataotraotrapatasumo,pataotraotraotrarata,pataotraotraotrapata,pataotraotraotraotra,pataotraotraotrasumo,pataotraotrasumorata,pataotraotrasumopata,pataotraotrasumootra,pataotraotrasumosumo,pataotrasumoratarata,pataotrasumoratapata,pataotrasumorataotra,pataotrasumoratasumo,pataotrasumopatarata,pataotrasumopatapata,pataotrasumopataotra,pataotrasumopatasumo,pataotrasumootrarata,pataotrasumootrapata,pataotrasumootraotra,pataotrasumootrasumo,pataotrasumosumorata,pataotrasumosumopata,pataotrasumosumootra,pataotrasumosumosumo,patasumorataratarata,patasumorataratapata,patasumoratarataotra,patasumorataratasumo,patasumoratapatarata,patasumoratapatapata,patasumoratapataotra,patasumoratapatasumo,patasumorataotrarata,patasumorataotrapata,patasumorataotraotra,patasumorataotrasumo,patasumoratasumorata,patasumoratasumopata,patasumoratasumootra,patasumoratasumosumo,patasumopataratarata,patasumopataratapata,patasumopatarataotra,patasumopataratasumo,patasumopatapatarata,patasumopatapatapata,patasumopatapataotra,patasumopatapatasumo,patasumopataotrarata,patasumopataotrapata,patasumopataotraotra,patasumopataotrasumo,patasumopatasumorata,patasumopatasumopata,patasumopatasumootra,patasumopatasumosumo,patasumootraratarata,patasumootraratapata,patasumootrarataotra,patasumootraratasumo,patasumootrapatarata,patasumootrapatapata,patasumootrapataotra,patasumootrapatasumo,patasumootraotrarata,patasumootraotrapata,patasumootraotraotra,patasumootraotrasumo,patasumootrasumorata,patasumootrasumopata,patasumootrasumootra,patasumootrasumosumo,patasumosumoratarata,patasumosumoratapata,patasumosumorataotra,patasumosumoratasumo,patasumosumopatarata,patasumosumopatapata,patasumosumopataotra,patasumosumopatasumo,patasumosumootrarata,patasumosumootrapata,patasumosumootraotra,patasumosumootrasumo,patasumosumosumorata,patasumosumosumopata,patasumosumosumootra,patasumosumosumosumo,otraratarataratarata,otraratarataratapata,otrarataratarataotra,otraratarataratasumo,otrarataratapatarata,otrarataratapatapata,otrarataratapataotra,otrarataratapatasumo,otraratarataotrarata,otraratarataotrapata,otraratarataotraotra,otraratarataotrasumo,otrarataratasumorata,otrarataratasumopata,otrarataratasumootra,otrarataratasumosumo,otraratapataratarata,otraratapataratapata,otraratapatarataotra,otraratapataratasumo,otraratapatapatarata,otraratapatapatapata,otraratapatapataotra,otraratapatapatasumo,otraratapataotrarata,otraratapataotrapata,otraratapataotraotra,otraratapataotrasumo,otraratapatasumorata,otraratapatasumopata,otraratapatasumootra,otraratapatasumosumo,otrarataotraratarata,otrarataotraratapata,otrarataotrarataotra,otrarataotraratasumo,otrarataotrapatarata,otrarataotrapatapata,otrarataotrapataotra,otrarataotrapatasumo,otrarataotraotrarata,otrarataotraotrapata,otrarataotraotraotra,otrarataotraotrasumo,otrarataotrasumorata,otrarataotrasumopata,otrarataotrasumootra,otrarataotrasumosumo,otraratasumoratarata,otraratasumoratapata,otraratasumorataotra,otraratasumoratasumo,otraratasumopatarata,otraratasumopatapata,otraratasumopataotra,otraratasumopatasumo,otraratasumootrarata,otraratasumootrapata,otraratasumootraotra,otraratasumootrasumo,otraratasumosumorata,otraratasumosumopata,otraratasumosumootra,otraratasumosumosumo,otrapatarataratarata,otrapatarataratapata,otrapataratarataotra,otrapatarataratasumo,otrapataratapatarata,otrapataratapatapata,otrapataratapataotra,otrapataratapatasumo,otrapatarataotrarata,otrapatarataotrapata,otrapatarataotraotra,otrapatarataotrasumo,otrapataratasumorata,otrapataratasumopata,otrapataratasumootra,otrapataratasumosumo,otrapatapataratarata,otrapatapataratapata,otrapatapatarataotra,otrapatapataratasumo,otrapatapatapatarata,otrapatapatapatapata,otrapatapatapataotra,otrapatapatapatasumo,otrapatapataotrarata,otrapatapataotrapata,otrapatapataotraotra,otrapatapataotrasumo,otrapatapatasumorata,otrapatapatasumopata,otrapatapatasumootra,otrapatapatasumosumo,otrapataotraratarata,otrapataotraratapata,otrapataotrarataotra,otrapataotraratasumo,otrapataotrapatarata,otrapataotrapatapata,otrapataotrapataotra,otrapataotrapatasumo,otrapataotraotrarata,otrapataotraotrapata,otrapataotraotraotra,otrapataotraotrasumo,otrapataotrasumorata,otrapataotrasumopata,otrapataotrasumootra,otrapataotrasumosumo,otrapatasumoratarata,otrapatasumoratapata,otrapatasumorataotra,otrapatasumoratasumo,otrapatasumopatarata,otrapatasumopatapata,otrapatasumopataotra,otrapatasumopatasumo,otrapatasumootrarata,otrapatasumootrapata,otrapatasumootraotra,otrapatasumootrasumo,otrapatasumosumorata,otrapatasumosumopata,otrapatasumosumootra,otrapatasumosumosumo,otraotrarataratarata,otraotrarataratapata,otraotraratarataotra,otraotrarataratasumo,otraotraratapatarata,otraotraratapatapata,otraotraratapataotra,otraotraratapatasumo,otraotrarataotrarata,otraotrarataotrapata,otraotrarataotraotra,otraotrarataotrasumo,otraotraratasumorata,otraotraratasumopata,otraotraratasumootra,otraotraratasumosumo,otraotrapataratarata,otraotrapataratapata,otraotrapatarataotra,otraotrapataratasumo,otraotrapatapatarata,otraotrapatapatapata,otraotrapatapataotra,otraotrapatapatasumo,otraotrapataotrarata,otraotrapataotrapata,otraotrapataotraotra,otraotrapataotrasumo,otraotrapatasumorata,otraotrapatasumopata,otraotrapatasumootra,otraotrapatasumosumo,otraotraotraratarata,otraotraotraratapata,otraotraotrarataotra,otraotraotraratasumo,otraotraotrapatarata,otraotraotrapatapata,otraotraotrapataotra,otraotraotrapatasumo,otraotraotraotrarata,otraotraotraotrapata,otraotraotraotraotra,otraotraotraotrasumo,otraotraotrasumorata,otraotraotrasumopata,otraotraotrasumootra,otraotraotrasumosumo,otraotrasumoratarata,otraotrasumoratapata,otraotrasumorataotra,otraotrasumoratasumo,otraotrasumopatarata,otraotrasumopatapata,otraotrasumopataotra,otraotrasumopatasumo,otraotrasumootrarata,otraotrasumootrapata,otraotrasumootraotra,otraotrasumootrasumo,otraotrasumosumorata,otraotrasumosumopata,otraotrasumosumootra,otraotrasumosumosumo,otrasumorataratarata,otrasumorataratapata,otrasumoratarataotra,otrasumorataratasumo,otrasumoratapatarata,otrasumoratapatapata,otrasumoratapataotra,otrasumoratapatasumo,otrasumorataotrarata,otrasumorataotrapata,otrasumorataotraotra,otrasumorataotrasumo,otrasumoratasumorata,otrasumoratasumopata,otrasumoratasumootra,otrasumoratasumosumo,otrasumopataratarata,otrasumopataratapata,otrasumopatarataotra,otrasumopataratasumo,otrasumopatapatarata,otrasumopatapatapata,otrasumopatapataotra,otrasumopatapatasumo,otrasumopataotrarata,otrasumopataotrapata,otrasumopataotraotra,otrasumopataotrasumo,otrasumopatasumorata,otrasumopatasumopata,otrasumopatasumootra,otrasumopatasumosumo,otrasumootraratarata,otrasumootraratapata,otrasumootrarataotra,otrasumootraratasumo,otrasumootrapatarata,otrasumootrapatapata,otrasumootrapataotra,otrasumootrapatasumo,otrasumootraotrarata,otrasumootraotrapata,otrasumootraotraotra,otrasumootraotrasumo,otrasumootrasumorata,otrasumootrasumopata,otrasumootrasumootra,otrasumootrasumosumo,otrasumosumoratarata,otrasumosumoratapata,otrasumosumorataotra,otrasumosumoratasumo,otrasumosumopatarata,otrasumosumopatapata,otrasumosumopataotra,otrasumosumopatasumo,otrasumosumootrarata,otrasumosumootrapata,otrasumosumootraotra,otrasumosumootrasumo,otrasumosumosumorata,otrasumosumosumopata,otrasumosumosumootra,otrasumosumosumosumo,sumoratarataratarata,sumoratarataratapata,sumorataratarataotra,sumoratarataratasumo,sumorataratapatarata,sumorataratapatapata,sumorataratapataotra,sumorataratapatasumo,sumoratarataotrarata,sumoratarataotrapata,sumoratarataotraotra,sumoratarataotrasumo,sumorataratasumorata,sumorataratasumopata,sumorataratasumootra,sumorataratasumosumo,sumoratapataratarata,sumoratapataratapata,sumoratapatarataotra,sumoratapataratasumo,sumoratapatapatarata,sumoratapatapatapata,sumoratapatapataotra,sumoratapatapatasumo,sumoratapataotrarata,sumoratapataotrapata,sumoratapataotraotra,sumoratapataotrasumo,sumoratapatasumorata,sumoratapatasumopata,sumoratapatasumootra,sumoratapatasumosumo,sumorataotraratarata,sumorataotraratapata,sumorataotrarataotra,sumorataotraratasumo,sumorataotrapatarata,sumorataotrapatapata,sumorataotrapataotra,sumorataotrapatasumo,sumorataotraotrarata,sumorataotraotrapata,sumorataotraotraotra,sumorataotraotrasumo,sumorataotrasumorata,sumorataotrasumopata,sumorataotrasumootra,sumorataotrasumosumo,sumoratasumoratarata,sumoratasumoratapata,sumoratasumorataotra,sumoratasumoratasumo,sumoratasumopatarata,sumoratasumopatapata,sumoratasumopataotra,sumoratasumopatasumo,sumoratasumootrarata,sumoratasumootrapata,sumoratasumootraotra,sumoratasumootrasumo,sumoratasumosumorata,sumoratasumosumopata,sumoratasumosumootra,sumoratasumosumosumo,sumopatarataratarata,sumopatarataratapata,sumopataratarataotra,sumopatarataratasumo,sumopataratapatarata,sumopataratapatapata,sumopataratapataotra,sumopataratapatasumo,sumopatarataotrarata,sumopatarataotrapata,sumopatarataotraotra,sumopatarataotrasumo,sumopataratasumorata,sumopataratasumopata,sumopataratasumootra,sumopataratasumosumo,sumopatapataratarata,sumopatapataratapata,sumopatapatarataotra,sumopatapataratasumo,sumopatapatapatarata,sumopatapatapatapata,sumopatapatapataotra,sumopatapatapatasumo,sumopatapataotrarata,sumopatapataotrapata,sumopatapataotraotra,sumopatapataotrasumo,sumopatapatasumorata,sumopatapatasumopata,sumopatapatasumootra,sumopatapatasumosumo,sumopataotraratarata,sumopataotraratapata,sumopataotrarataotra,sumopataotraratasumo,sumopataotrapatarata,sumopataotrapatapata,sumopataotrapataotra,sumopataotrapatasumo,sumopataotraotrarata,sumopataotraotrapata,sumopataotraotraotra,sumopataotraotrasumo,sumopataotrasumorata,sumopataotrasumopata,sumopataotrasumootra,sumopataotrasumosumo,sumopatasumoratarata,sumopatasumoratapata,sumopatasumorataotra,sumopatasumoratasumo,sumopatasumopatarata,sumopatasumopatapata,sumopatasumopataotra,sumopatasumopatasumo,sumopatasumootrarata,sumopatasumootrapata,sumopatasumootraotra,sumopatasumootrasumo,sumopatasumosumorata,sumopatasumosumopata,sumopatasumosumootra,sumopatasumosumosumo,sumootrarataratarata,sumootrarataratapata,sumootraratarataotra,sumootrarataratasumo,sumootraratapatarata,sumootraratapatapata,sumootraratapataotra,sumootraratapatasumo,sumootrarataotrarata,sumootrarataotrapata,sumootrarataotraotra,sumootrarataotrasumo,sumootraratasumorata,sumootraratasumopata,sumootraratasumootra,sumootraratasumosumo,sumootrapataratarata,sumootrapataratapata,sumootrapatarataotra,sumootrapataratasumo,sumootrapatapatarata,sumootrapatapatapata,sumootrapatapataotra,sumootrapatapatasumo,sumootrapataotrarata,sumootrapataotrapata,sumootrapataotraotra,sumootrapataotrasumo,sumootrapatasumorata,sumootrapatasumopata,sumootrapatasumootra,sumootrapatasumosumo,sumootraotraratarata,sumootraotraratapata,sumootraotrarataotra,sumootraotraratasumo,sumootraotrapatarata,sumootraotrapatapata,sumootraotrapataotra,sumootraotrapatasumo,sumootraotraotrarata,sumootraotraotrapata,sumootraotraotraotra,sumootraotraotrasumo,sumootraotrasumorata,sumootraotrasumopata,sumootraotrasumootra,sumootraotrasumosumo,sumootrasumoratarata,sumootrasumoratapata,sumootrasumorataotra,sumootrasumoratasumo,sumootrasumopatarata,sumootrasumopatapata,sumootrasumopataotra,sumootrasumopatasumo,sumootrasumootrarata,sumootrasumootrapata,sumootrasumootraotra,sumootrasumootrasumo,sumootrasumosumorata,sumootrasumosumopata,sumootrasumosumootra,sumootrasumosumosumo,sumosumorataratarata,sumosumorataratapata,sumosumoratarataotra,sumosumorataratasumo,sumosumoratapatarata,sumosumoratapatapata,sumosumoratapataotra,sumosumoratapatasumo,sumosumorataotrarata,sumosumorataotrapata,sumosumorataotraotra,sumosumorataotrasumo,sumosumoratasumorata,sumosumoratasumopata,sumosumoratasumootra,sumosumoratasumosumo,sumosumopataratarata,sumosumopataratapata,sumosumopatarataotra,sumosumopataratasumo,sumosumopatapatarata,sumosumopatapatapata,sumosumopatapataotra,sumosumopatapatasumo,sumosumopataotrarata,sumosumopataotrapata,sumosumopataotraotra,sumosumopataotrasumo,sumosumopatasumorata,sumosumopatasumopata,sumosumopatasumootra,sumosumopatasumosumo,sumosumootraratarata,sumosumootraratapata,sumosumootrarataotra,sumosumootraratasumo,sumosumootrapatarata,sumosumootrapatapata,sumosumootrapataotra,sumosumootrapatasumo,sumosumootraotrarata,sumosumootraotrapata,sumosumootraotraotra,sumosumootraotrasumo,sumosumootrasumorata,sumosumootrasumopata,sumosumootrasumootra,sumosumootrasumosumo,sumosumosumoratarata,sumosumosumoratapata,sumosumosumorataotra,sumosumosumoratasumo,sumosumosumopatarata,sumosumosumopatapata,sumosumosumopataotra,sumosumosumopatasumo,sumosumosumootrarata,sumosumosumootrapata,sumosumosumootraotra,sumosumosumootrasumo,sumosumosumosumorata,sumosumosumosumopata,sumosumosumosumootra,sumosumosumosumosumo}\n",
            "|(L1 n L3)^4| = 1024\n"
          ]
        }
      ]
    },
    {
      "cell_type": "markdown",
      "source": [
        "Reflexión de las concatenaciones"
      ],
      "metadata": {
        "id": "UOSXXtaaMjQI"
      }
    },
    {
      "cell_type": "code",
      "source": [
        "L1concatL2ref = reflexion(L1concatL2)\n",
        "print(\"L1L2^-1 = {\" + ','.join(L1concatL2ref) + \"}\")\n",
        "print(\"|L1L2^-1| = \" + str(len(L1concatL2ref)))\n",
        "L2concatL3ref = reflexion(L2concatL3)\n",
        "print(\"L2L3^-1 = {\" + ','.join(L2concatL3ref) + \"}\")\n",
        "print(\"|L2L3^-1| = \" + str(len(L2concatL3ref)))\n",
        "L1concatL3ref = reflexion(L1concatL3)\n",
        "print(\"L1L3^-1 = {\" + ','.join(L1concatL3ref) + \"}\")\n",
        "print(\"|L1L3^-1| = \" + str(len(L1concatL3ref)))"
      ],
      "metadata": {
        "colab": {
          "base_uri": "https://localhost:8080/"
        },
        "id": "mzstsBDMMihA",
        "outputId": "1d794a6d-6db0-4cca-b7a1-ab7f2b0ff0eb"
      },
      "execution_count": null,
      "outputs": [
        {
          "output_type": "stream",
          "name": "stdout",
          "text": [
            "L1L2^-1 = {atatomus,onuomus,artoomus,camomus,tatomus,dasomus,dadomus,dabomus,daomus,atatonu,onuonu,artoonu,camonu,tatonu,dasonu,dadonu,dabonu,daonu,atatarto,onuarto,artoarto,camarto,tatarto,dasarto,dadarto,dabarto,daarto,atatapos,onuapos,artoapos,camapos,tatapos,dasapos,dadapos,dabapos,daapos,atatatat,onuatat,artoatat,camatat,tatatat,dasatat,dadatat,dabatat,daatat,atatatap,onuatap,artoatap,camatap,tatatap,dasatap,dadatap,dabatap,daatap,atatatar,onuatar,artoatar,camatar,tatatar,dasatar,dadatar,dabatar,daatar}\n",
            "|L1L2^-1| = 63\n",
            "L2L3^-1 = {omusatat,artoatat,ataratat,atapatat,ocolatat,ococatat,omusonu,artoonu,ataronu,ataponu,ocolonu,ococonu,omusarto,artoarto,atararto,ataparto,ocolarto,ococarto,omuscam,artocam,atarcam,atapcam,ocolcam,ococcam,omustat,artotat,atartat,ataptat,ocoltat,ococtat,omusdas,artodas,atardas,atapdas,ocoldas,ococdas,omusdad,artodad,atardad,atapdad,ocoldad,ococdad,omusdab,artodab,atardab,atapdab,ocoldab,ococdab,omusda,artoda,atarda,atapda,ocolda,ococda}\n",
            "|L2L3^-1| = 54\n",
            "L1L3^-1 = {omusomus,artoomus,ataromus,atapomus,ocolomus,ococomus,omusonu,artoonu,ataronu,ataponu,ocolonu,ococonu,omusarto,artoarto,atararto,ataparto,ocolarto,ococarto,omusapos,artoapos,atarapos,atapapos,ocolapos,ococapos,omusatat,artoatat,ataratat,atapatat,ocolatat,ococatat,omusatap,artoatap,ataratap,atapatap,ocolatap,ococatap,omusatar,artoatar,ataratar,atapatar,ocolatar,ococatar}\n",
            "|L1L3^-1| = 42\n"
          ]
        }
      ]
    },
    {
      "cell_type": "markdown",
      "source": [
        "Cierre"
      ],
      "metadata": {
        "id": "wMuQRivTQ2AG"
      }
    },
    {
      "cell_type": "code",
      "source": [
        "L1cierre = cierre(lenguaje1,3)\n",
        "L2cierre = cierre(lenguaje2,3)\n",
        "L3cierre = cierre(lenguaje3,3)\n",
        "print(\"L1* = {\" + ','.join(L1cierre) + \"}\")\n",
        "print(\"|L1*| = \" + str(len(L1cierre)))\n",
        "print(\"L2* = {\" + ','.join(L2cierre) + \"}\")\n",
        "print(\"|L2*| = \" + str(len(L2cierre)))\n",
        "print(\"L3* = {\" + ','.join(L3cierre) + \"}\")\n",
        "print(\"|L3*| = \" + str(len(L3cierre)))"
      ],
      "metadata": {
        "colab": {
          "base_uri": "https://localhost:8080/"
        },
        "id": "-f9oAKlcQ3gr",
        "outputId": "916fc03e-a113-495c-ca91-9a4049c86c5a"
      },
      "execution_count": null,
      "outputs": [
        {
          "output_type": "stream",
          "name": "stdout",
          "text": [
            "L1* = {rata,pata,tata,sopa,otra,uno,sumo,ratarata,ratapata,ratatata,ratasopa,rataotra,ratauno,ratasumo,patarata,patapata,patatata,patasopa,pataotra,patauno,patasumo,tatarata,tatapata,tatatata,tatasopa,tataotra,tatauno,tatasumo,soparata,sopapata,sopatata,sopasopa,sopaotra,sopauno,sopasumo,otrarata,otrapata,otratata,otrasopa,otraotra,otrauno,otrasumo,unorata,unopata,unotata,unosopa,unootra,unouno,unosumo,sumorata,sumopata,sumotata,sumosopa,sumootra,sumouno,sumosumo,rataratarata,rataratapata,rataratatata,rataratasopa,ratarataotra,rataratauno,rataratasumo,ratapatarata,ratapatapata,ratapatatata,ratapatasopa,ratapataotra,ratapatauno,ratapatasumo,ratatatarata,ratatatapata,ratatatatata,ratatatasopa,ratatataotra,ratatatauno,ratatatasumo,ratasoparata,ratasopapata,ratasopatata,ratasopasopa,ratasopaotra,ratasopauno,ratasopasumo,rataotrarata,rataotrapata,rataotratata,rataotrasopa,rataotraotra,rataotrauno,rataotrasumo,rataunorata,rataunopata,rataunotata,rataunosopa,rataunootra,rataunouno,rataunosumo,ratasumorata,ratasumopata,ratasumotata,ratasumosopa,ratasumootra,ratasumouno,ratasumosumo,pataratarata,pataratapata,pataratatata,pataratasopa,patarataotra,pataratauno,pataratasumo,patapatarata,patapatapata,patapatatata,patapatasopa,patapataotra,patapatauno,patapatasumo,patatatarata,patatatapata,patatatatata,patatatasopa,patatataotra,patatatauno,patatatasumo,patasoparata,patasopapata,patasopatata,patasopasopa,patasopaotra,patasopauno,patasopasumo,pataotrarata,pataotrapata,pataotratata,pataotrasopa,pataotraotra,pataotrauno,pataotrasumo,pataunorata,pataunopata,pataunotata,pataunosopa,pataunootra,pataunouno,pataunosumo,patasumorata,patasumopata,patasumotata,patasumosopa,patasumootra,patasumouno,patasumosumo,tataratarata,tataratapata,tataratatata,tataratasopa,tatarataotra,tataratauno,tataratasumo,tatapatarata,tatapatapata,tatapatatata,tatapatasopa,tatapataotra,tatapatauno,tatapatasumo,tatatatarata,tatatatapata,tatatatatata,tatatatasopa,tatatataotra,tatatatauno,tatatatasumo,tatasoparata,tatasopapata,tatasopatata,tatasopasopa,tatasopaotra,tatasopauno,tatasopasumo,tataotrarata,tataotrapata,tataotratata,tataotrasopa,tataotraotra,tataotrauno,tataotrasumo,tataunorata,tataunopata,tataunotata,tataunosopa,tataunootra,tataunouno,tataunosumo,tatasumorata,tatasumopata,tatasumotata,tatasumosopa,tatasumootra,tatasumouno,tatasumosumo,soparatarata,soparatapata,soparatatata,soparatasopa,soparataotra,soparatauno,soparatasumo,sopapatarata,sopapatapata,sopapatatata,sopapatasopa,sopapataotra,sopapatauno,sopapatasumo,sopatatarata,sopatatapata,sopatatatata,sopatatasopa,sopatataotra,sopatatauno,sopatatasumo,sopasoparata,sopasopapata,sopasopatata,sopasopasopa,sopasopaotra,sopasopauno,sopasopasumo,sopaotrarata,sopaotrapata,sopaotratata,sopaotrasopa,sopaotraotra,sopaotrauno,sopaotrasumo,sopaunorata,sopaunopata,sopaunotata,sopaunosopa,sopaunootra,sopaunouno,sopaunosumo,sopasumorata,sopasumopata,sopasumotata,sopasumosopa,sopasumootra,sopasumouno,sopasumosumo,otraratarata,otraratapata,otraratatata,otraratasopa,otrarataotra,otraratauno,otraratasumo,otrapatarata,otrapatapata,otrapatatata,otrapatasopa,otrapataotra,otrapatauno,otrapatasumo,otratatarata,otratatapata,otratatatata,otratatasopa,otratataotra,otratatauno,otratatasumo,otrasoparata,otrasopapata,otrasopatata,otrasopasopa,otrasopaotra,otrasopauno,otrasopasumo,otraotrarata,otraotrapata,otraotratata,otraotrasopa,otraotraotra,otraotrauno,otraotrasumo,otraunorata,otraunopata,otraunotata,otraunosopa,otraunootra,otraunouno,otraunosumo,otrasumorata,otrasumopata,otrasumotata,otrasumosopa,otrasumootra,otrasumouno,otrasumosumo,unoratarata,unoratapata,unoratatata,unoratasopa,unorataotra,unoratauno,unoratasumo,unopatarata,unopatapata,unopatatata,unopatasopa,unopataotra,unopatauno,unopatasumo,unotatarata,unotatapata,unotatatata,unotatasopa,unotataotra,unotatauno,unotatasumo,unosoparata,unosopapata,unosopatata,unosopasopa,unosopaotra,unosopauno,unosopasumo,unootrarata,unootrapata,unootratata,unootrasopa,unootraotra,unootrauno,unootrasumo,unounorata,unounopata,unounotata,unounosopa,unounootra,unounouno,unounosumo,unosumorata,unosumopata,unosumotata,unosumosopa,unosumootra,unosumouno,unosumosumo,sumoratarata,sumoratapata,sumoratatata,sumoratasopa,sumorataotra,sumoratauno,sumoratasumo,sumopatarata,sumopatapata,sumopatatata,sumopatasopa,sumopataotra,sumopatauno,sumopatasumo,sumotatarata,sumotatapata,sumotatatata,sumotatasopa,sumotataotra,sumotatauno,sumotatasumo,sumosoparata,sumosopapata,sumosopatata,sumosopasopa,sumosopaotra,sumosopauno,sumosopasumo,sumootrarata,sumootrapata,sumootratata,sumootrasopa,sumootraotra,sumootrauno,sumootrasumo,sumounorata,sumounopata,sumounotata,sumounosopa,sumounootra,sumounouno,sumounosumo,sumosumorata,sumosumopata,sumosumotata,sumosumosopa,sumosumootra,sumosumouno,sumosumosumo}\n",
            "|L1*| = 399\n",
            "L2* = {ad,bad,dad,sad,tat,mac,otra,uno,tata,adad,adbad,addad,adsad,adtat,admac,adotra,aduno,adtata,badad,badbad,baddad,badsad,badtat,badmac,badotra,baduno,badtata,dadad,dadbad,daddad,dadsad,dadtat,dadmac,dadotra,daduno,dadtata,sadad,sadbad,saddad,sadsad,sadtat,sadmac,sadotra,saduno,sadtata,tatad,tatbad,tatdad,tatsad,tattat,tatmac,tatotra,tatuno,tattata,macad,macbad,macdad,macsad,mactat,macmac,macotra,macuno,mactata,otraad,otrabad,otradad,otrasad,otratat,otramac,otraotra,otrauno,otratata,unoad,unobad,unodad,unosad,unotat,unomac,unootra,unouno,unotata,tataad,tatabad,tatadad,tatasad,tatatat,tatamac,tataotra,tatauno,tatatata,adadad,adadbad,adaddad,adadsad,adadtat,adadmac,adadotra,adaduno,adadtata,adbadad,adbadbad,adbaddad,adbadsad,adbadtat,adbadmac,adbadotra,adbaduno,adbadtata,addadad,addadbad,addaddad,addadsad,addadtat,addadmac,addadotra,addaduno,addadtata,adsadad,adsadbad,adsaddad,adsadsad,adsadtat,adsadmac,adsadotra,adsaduno,adsadtata,adtatad,adtatbad,adtatdad,adtatsad,adtattat,adtatmac,adtatotra,adtatuno,adtattata,admacad,admacbad,admacdad,admacsad,admactat,admacmac,admacotra,admacuno,admactata,adotraad,adotrabad,adotradad,adotrasad,adotratat,adotramac,adotraotra,adotrauno,adotratata,adunoad,adunobad,adunodad,adunosad,adunotat,adunomac,adunootra,adunouno,adunotata,adtataad,adtatabad,adtatadad,adtatasad,adtatatat,adtatamac,adtataotra,adtatauno,adtatatata,badadad,badadbad,badaddad,badadsad,badadtat,badadmac,badadotra,badaduno,badadtata,badbadad,badbadbad,badbaddad,badbadsad,badbadtat,badbadmac,badbadotra,badbaduno,badbadtata,baddadad,baddadbad,baddaddad,baddadsad,baddadtat,baddadmac,baddadotra,baddaduno,baddadtata,badsadad,badsadbad,badsaddad,badsadsad,badsadtat,badsadmac,badsadotra,badsaduno,badsadtata,badtatad,badtatbad,badtatdad,badtatsad,badtattat,badtatmac,badtatotra,badtatuno,badtattata,badmacad,badmacbad,badmacdad,badmacsad,badmactat,badmacmac,badmacotra,badmacuno,badmactata,badotraad,badotrabad,badotradad,badotrasad,badotratat,badotramac,badotraotra,badotrauno,badotratata,badunoad,badunobad,badunodad,badunosad,badunotat,badunomac,badunootra,badunouno,badunotata,badtataad,badtatabad,badtatadad,badtatasad,badtatatat,badtatamac,badtataotra,badtatauno,badtatatata,dadadad,dadadbad,dadaddad,dadadsad,dadadtat,dadadmac,dadadotra,dadaduno,dadadtata,dadbadad,dadbadbad,dadbaddad,dadbadsad,dadbadtat,dadbadmac,dadbadotra,dadbaduno,dadbadtata,daddadad,daddadbad,daddaddad,daddadsad,daddadtat,daddadmac,daddadotra,daddaduno,daddadtata,dadsadad,dadsadbad,dadsaddad,dadsadsad,dadsadtat,dadsadmac,dadsadotra,dadsaduno,dadsadtata,dadtatad,dadtatbad,dadtatdad,dadtatsad,dadtattat,dadtatmac,dadtatotra,dadtatuno,dadtattata,dadmacad,dadmacbad,dadmacdad,dadmacsad,dadmactat,dadmacmac,dadmacotra,dadmacuno,dadmactata,dadotraad,dadotrabad,dadotradad,dadotrasad,dadotratat,dadotramac,dadotraotra,dadotrauno,dadotratata,dadunoad,dadunobad,dadunodad,dadunosad,dadunotat,dadunomac,dadunootra,dadunouno,dadunotata,dadtataad,dadtatabad,dadtatadad,dadtatasad,dadtatatat,dadtatamac,dadtataotra,dadtatauno,dadtatatata,sadadad,sadadbad,sadaddad,sadadsad,sadadtat,sadadmac,sadadotra,sadaduno,sadadtata,sadbadad,sadbadbad,sadbaddad,sadbadsad,sadbadtat,sadbadmac,sadbadotra,sadbaduno,sadbadtata,saddadad,saddadbad,saddaddad,saddadsad,saddadtat,saddadmac,saddadotra,saddaduno,saddadtata,sadsadad,sadsadbad,sadsaddad,sadsadsad,sadsadtat,sadsadmac,sadsadotra,sadsaduno,sadsadtata,sadtatad,sadtatbad,sadtatdad,sadtatsad,sadtattat,sadtatmac,sadtatotra,sadtatuno,sadtattata,sadmacad,sadmacbad,sadmacdad,sadmacsad,sadmactat,sadmacmac,sadmacotra,sadmacuno,sadmactata,sadotraad,sadotrabad,sadotradad,sadotrasad,sadotratat,sadotramac,sadotraotra,sadotrauno,sadotratata,sadunoad,sadunobad,sadunodad,sadunosad,sadunotat,sadunomac,sadunootra,sadunouno,sadunotata,sadtataad,sadtatabad,sadtatadad,sadtatasad,sadtatatat,sadtatamac,sadtataotra,sadtatauno,sadtatatata,tatadbad,tataddad,tatadsad,tatadtat,tatadmac,tatadotra,tataduno,tatadtata,tatbadad,tatbadbad,tatbaddad,tatbadsad,tatbadtat,tatbadmac,tatbadotra,tatbaduno,tatbadtata,tatdadad,tatdadbad,tatdaddad,tatdadsad,tatdadtat,tatdadmac,tatdadotra,tatdaduno,tatdadtata,tatsadad,tatsadbad,tatsaddad,tatsadsad,tatsadtat,tatsadmac,tatsadotra,tatsaduno,tatsadtata,tattatad,tattatbad,tattatdad,tattatsad,tattattat,tattatmac,tattatotra,tattatuno,tattattata,tatmacad,tatmacbad,tatmacdad,tatmacsad,tatmactat,tatmacmac,tatmacotra,tatmacuno,tatmactata,tatotraad,tatotrabad,tatotradad,tatotrasad,tatotratat,tatotramac,tatotraotra,tatotrauno,tatotratata,tatunoad,tatunobad,tatunodad,tatunosad,tatunotat,tatunomac,tatunootra,tatunouno,tatunotata,tattataad,tattatabad,tattatadad,tattatasad,tattatatat,tattatamac,tattataotra,tattatauno,tattatatata,macadad,macadbad,macaddad,macadsad,macadtat,macadmac,macadotra,macaduno,macadtata,macbadad,macbadbad,macbaddad,macbadsad,macbadtat,macbadmac,macbadotra,macbaduno,macbadtata,macdadad,macdadbad,macdaddad,macdadsad,macdadtat,macdadmac,macdadotra,macdaduno,macdadtata,macsadad,macsadbad,macsaddad,macsadsad,macsadtat,macsadmac,macsadotra,macsaduno,macsadtata,mactatad,mactatbad,mactatdad,mactatsad,mactattat,mactatmac,mactatotra,mactatuno,mactattata,macmacad,macmacbad,macmacdad,macmacsad,macmactat,macmacmac,macmacotra,macmacuno,macmactata,macotraad,macotrabad,macotradad,macotrasad,macotratat,macotramac,macotraotra,macotrauno,macotratata,macunoad,macunobad,macunodad,macunosad,macunotat,macunomac,macunootra,macunouno,macunotata,mactataad,mactatabad,mactatadad,mactatasad,mactatatat,mactatamac,mactataotra,mactatauno,mactatatata,otraadad,otraadbad,otraaddad,otraadsad,otraadtat,otraadmac,otraadotra,otraaduno,otraadtata,otrabadad,otrabadbad,otrabaddad,otrabadsad,otrabadtat,otrabadmac,otrabadotra,otrabaduno,otrabadtata,otradadad,otradadbad,otradaddad,otradadsad,otradadtat,otradadmac,otradadotra,otradaduno,otradadtata,otrasadad,otrasadbad,otrasaddad,otrasadsad,otrasadtat,otrasadmac,otrasadotra,otrasaduno,otrasadtata,otratatad,otratatbad,otratatdad,otratatsad,otratattat,otratatmac,otratatotra,otratatuno,otratattata,otramacad,otramacbad,otramacdad,otramacsad,otramactat,otramacmac,otramacotra,otramacuno,otramactata,otraotraad,otraotrabad,otraotradad,otraotrasad,otraotratat,otraotramac,otraotraotra,otraotrauno,otraotratata,otraunoad,otraunobad,otraunodad,otraunosad,otraunotat,otraunomac,otraunootra,otraunouno,otraunotata,otratataad,otratatabad,otratatadad,otratatasad,otratatatat,otratatamac,otratataotra,otratatauno,otratatatata,unoadad,unoadbad,unoaddad,unoadsad,unoadtat,unoadmac,unoadotra,unoaduno,unoadtata,unobadad,unobadbad,unobaddad,unobadsad,unobadtat,unobadmac,unobadotra,unobaduno,unobadtata,unodadad,unodadbad,unodaddad,unodadsad,unodadtat,unodadmac,unodadotra,unodaduno,unodadtata,unosadad,unosadbad,unosaddad,unosadsad,unosadtat,unosadmac,unosadotra,unosaduno,unosadtata,unotatad,unotatbad,unotatdad,unotatsad,unotattat,unotatmac,unotatotra,unotatuno,unotattata,unomacad,unomacbad,unomacdad,unomacsad,unomactat,unomacmac,unomacotra,unomacuno,unomactata,unootraad,unootrabad,unootradad,unootrasad,unootratat,unootramac,unootraotra,unootrauno,unootratata,unounoad,unounobad,unounodad,unounosad,unounotat,unounomac,unounootra,unounouno,unounotata,unotataad,unotatabad,unotatadad,unotatasad,unotatatat,unotatamac,unotataotra,unotatauno,unotatatata,tataadad,tataadbad,tataaddad,tataadsad,tataadtat,tataadmac,tataadotra,tataaduno,tataadtata,tatabadad,tatabadbad,tatabaddad,tatabadsad,tatabadtat,tatabadmac,tatabadotra,tatabaduno,tatabadtata,tatadadad,tatadadbad,tatadaddad,tatadadsad,tatadadtat,tatadadmac,tatadadotra,tatadaduno,tatadadtata,tatasadad,tatasadbad,tatasaddad,tatasadsad,tatasadtat,tatasadmac,tatasadotra,tatasaduno,tatasadtata,tatatatad,tatatatbad,tatatatdad,tatatatsad,tatatattat,tatatatmac,tatatatotra,tatatatuno,tatatattata,tatamacad,tatamacbad,tatamacdad,tatamacsad,tatamactat,tatamacmac,tatamacotra,tatamacuno,tatamactata,tataotraad,tataotrabad,tataotradad,tataotrasad,tataotratat,tataotramac,tataotraotra,tataotrauno,tataotratata,tataunoad,tataunobad,tataunodad,tataunosad,tataunotat,tataunomac,tataunootra,tataunouno,tataunotata,tatatataad,tatatatabad,tatatatadad,tatatatasad,tatatatatat,tatatatamac,tatatataotra,tatatatauno,tatatatatata}\n",
            "|L2*| = 818\n",
            "L3* = {coco,loco,pata,rata,otra,sumo,cocococo,cocoloco,cocopata,cocorata,cocootra,cocosumo,locococo,locoloco,locopata,locorata,locootra,locosumo,patacoco,pataloco,patapata,patarata,pataotra,patasumo,ratacoco,rataloco,ratapata,ratarata,rataotra,ratasumo,otracoco,otraloco,otrapata,otrarata,otraotra,otrasumo,sumococo,sumoloco,sumopata,sumorata,sumootra,sumosumo,cocococococo,cocococoloco,cocococopata,cocococorata,cocococootra,cocococosumo,cocolocococo,cocolocoloco,cocolocopata,cocolocorata,cocolocootra,cocolocosumo,cocopatacoco,cocopataloco,cocopatapata,cocopatarata,cocopataotra,cocopatasumo,cocoratacoco,cocorataloco,cocoratapata,cocoratarata,cocorataotra,cocoratasumo,cocootracoco,cocootraloco,cocootrapata,cocootrarata,cocootraotra,cocootrasumo,cocosumococo,cocosumoloco,cocosumopata,cocosumorata,cocosumootra,cocosumosumo,locococococo,locococoloco,locococopata,locococorata,locococootra,locococosumo,locolocococo,locolocoloco,locolocopata,locolocorata,locolocootra,locolocosumo,locopatacoco,locopataloco,locopatapata,locopatarata,locopataotra,locopatasumo,locoratacoco,locorataloco,locoratapata,locoratarata,locorataotra,locoratasumo,locootracoco,locootraloco,locootrapata,locootrarata,locootraotra,locootrasumo,locosumococo,locosumoloco,locosumopata,locosumorata,locosumootra,locosumosumo,patacocococo,patacocoloco,patacocopata,patacocorata,patacocootra,patacocosumo,patalocococo,patalocoloco,patalocopata,patalocorata,patalocootra,patalocosumo,patapatacoco,patapataloco,patapatapata,patapatarata,patapataotra,patapatasumo,pataratacoco,patarataloco,pataratapata,pataratarata,patarataotra,pataratasumo,pataotracoco,pataotraloco,pataotrapata,pataotrarata,pataotraotra,pataotrasumo,patasumococo,patasumoloco,patasumopata,patasumorata,patasumootra,patasumosumo,ratacocococo,ratacocoloco,ratacocopata,ratacocorata,ratacocootra,ratacocosumo,ratalocococo,ratalocoloco,ratalocopata,ratalocorata,ratalocootra,ratalocosumo,ratapatacoco,ratapataloco,ratapatapata,ratapatarata,ratapataotra,ratapatasumo,rataratacoco,ratarataloco,rataratapata,rataratarata,ratarataotra,rataratasumo,rataotracoco,rataotraloco,rataotrapata,rataotrarata,rataotraotra,rataotrasumo,ratasumococo,ratasumoloco,ratasumopata,ratasumorata,ratasumootra,ratasumosumo,otracocococo,otracocoloco,otracocopata,otracocorata,otracocootra,otracocosumo,otralocococo,otralocoloco,otralocopata,otralocorata,otralocootra,otralocosumo,otrapatacoco,otrapataloco,otrapatapata,otrapatarata,otrapataotra,otrapatasumo,otraratacoco,otrarataloco,otraratapata,otraratarata,otrarataotra,otraratasumo,otraotracoco,otraotraloco,otraotrapata,otraotrarata,otraotraotra,otraotrasumo,otrasumococo,otrasumoloco,otrasumopata,otrasumorata,otrasumootra,otrasumosumo,sumococococo,sumococoloco,sumococopata,sumococorata,sumococootra,sumococosumo,sumolocococo,sumolocoloco,sumolocopata,sumolocorata,sumolocootra,sumolocosumo,sumopatacoco,sumopataloco,sumopatapata,sumopatarata,sumopataotra,sumopatasumo,sumoratacoco,sumorataloco,sumoratapata,sumoratarata,sumorataotra,sumoratasumo,sumootracoco,sumootraloco,sumootrapata,sumootrarata,sumootraotra,sumootrasumo,sumosumococo,sumosumoloco,sumosumopata,sumosumorata,sumosumootra,sumosumosumo}\n",
            "|L3*| = 258\n"
          ]
        }
      ]
    },
    {
      "cell_type": "markdown",
      "source": [
        "Positiva"
      ],
      "metadata": {
        "id": "B4dOZVI3TxMu"
      }
    },
    {
      "cell_type": "code",
      "source": [
        "L1positiva = positiva(lenguaje1,3)\n",
        "L2positiva = positiva(lenguaje2,3)\n",
        "L3positiva = positiva(lenguaje3,3)\n",
        "print(\"L1+ = {\" + ','.join(L1positiva) + \"}\")\n",
        "print(\"|L1+| = \" + str(len(L1positiva)))\n",
        "print(\"L2+ = {\" + ','.join(L2positiva) + \"}\")\n",
        "print(\"|L2+| = \" + str(len(L2positiva)))\n",
        "print(\"L3+ = {\" + ','.join(L3positiva) + \"}\")\n",
        "print(\"|L3+| = \" + str(len(L3positiva)))"
      ],
      "metadata": {
        "colab": {
          "base_uri": "https://localhost:8080/"
        },
        "id": "HJ0g4-isT0NM",
        "outputId": "5e041027-832b-4c88-a4ad-7d31330aa8e2"
      },
      "execution_count": null,
      "outputs": [
        {
          "output_type": "stream",
          "name": "stdout",
          "text": [
            "L1+ = {ratarata,ratapata,ratatata,ratasopa,rataotra,ratauno,ratasumo,patarata,patapata,patatata,patasopa,pataotra,patauno,patasumo,tatarata,tatapata,tatatata,tatasopa,tataotra,tatauno,tatasumo,soparata,sopapata,sopatata,sopasopa,sopaotra,sopauno,sopasumo,otrarata,otrapata,otratata,otrasopa,otraotra,otrauno,otrasumo,unorata,unopata,unotata,unosopa,unootra,unouno,unosumo,sumorata,sumopata,sumotata,sumosopa,sumootra,sumouno,sumosumo,rataratarata,rataratapata,rataratatata,rataratasopa,ratarataotra,rataratauno,rataratasumo,ratapatarata,ratapatapata,ratapatatata,ratapatasopa,ratapataotra,ratapatauno,ratapatasumo,ratatatarata,ratatatapata,ratatatatata,ratatatasopa,ratatataotra,ratatatauno,ratatatasumo,ratasoparata,ratasopapata,ratasopatata,ratasopasopa,ratasopaotra,ratasopauno,ratasopasumo,rataotrarata,rataotrapata,rataotratata,rataotrasopa,rataotraotra,rataotrauno,rataotrasumo,rataunorata,rataunopata,rataunotata,rataunosopa,rataunootra,rataunouno,rataunosumo,ratasumorata,ratasumopata,ratasumotata,ratasumosopa,ratasumootra,ratasumouno,ratasumosumo,pataratarata,pataratapata,pataratatata,pataratasopa,patarataotra,pataratauno,pataratasumo,patapatarata,patapatapata,patapatatata,patapatasopa,patapataotra,patapatauno,patapatasumo,patatatarata,patatatapata,patatatatata,patatatasopa,patatataotra,patatatauno,patatatasumo,patasoparata,patasopapata,patasopatata,patasopasopa,patasopaotra,patasopauno,patasopasumo,pataotrarata,pataotrapata,pataotratata,pataotrasopa,pataotraotra,pataotrauno,pataotrasumo,pataunorata,pataunopata,pataunotata,pataunosopa,pataunootra,pataunouno,pataunosumo,patasumorata,patasumopata,patasumotata,patasumosopa,patasumootra,patasumouno,patasumosumo,tataratarata,tataratapata,tataratatata,tataratasopa,tatarataotra,tataratauno,tataratasumo,tatapatarata,tatapatapata,tatapatatata,tatapatasopa,tatapataotra,tatapatauno,tatapatasumo,tatatatarata,tatatatapata,tatatatatata,tatatatasopa,tatatataotra,tatatatauno,tatatatasumo,tatasoparata,tatasopapata,tatasopatata,tatasopasopa,tatasopaotra,tatasopauno,tatasopasumo,tataotrarata,tataotrapata,tataotratata,tataotrasopa,tataotraotra,tataotrauno,tataotrasumo,tataunorata,tataunopata,tataunotata,tataunosopa,tataunootra,tataunouno,tataunosumo,tatasumorata,tatasumopata,tatasumotata,tatasumosopa,tatasumootra,tatasumouno,tatasumosumo,soparatarata,soparatapata,soparatatata,soparatasopa,soparataotra,soparatauno,soparatasumo,sopapatarata,sopapatapata,sopapatatata,sopapatasopa,sopapataotra,sopapatauno,sopapatasumo,sopatatarata,sopatatapata,sopatatatata,sopatatasopa,sopatataotra,sopatatauno,sopatatasumo,sopasoparata,sopasopapata,sopasopatata,sopasopasopa,sopasopaotra,sopasopauno,sopasopasumo,sopaotrarata,sopaotrapata,sopaotratata,sopaotrasopa,sopaotraotra,sopaotrauno,sopaotrasumo,sopaunorata,sopaunopata,sopaunotata,sopaunosopa,sopaunootra,sopaunouno,sopaunosumo,sopasumorata,sopasumopata,sopasumotata,sopasumosopa,sopasumootra,sopasumouno,sopasumosumo,otraratarata,otraratapata,otraratatata,otraratasopa,otrarataotra,otraratauno,otraratasumo,otrapatarata,otrapatapata,otrapatatata,otrapatasopa,otrapataotra,otrapatauno,otrapatasumo,otratatarata,otratatapata,otratatatata,otratatasopa,otratataotra,otratatauno,otratatasumo,otrasoparata,otrasopapata,otrasopatata,otrasopasopa,otrasopaotra,otrasopauno,otrasopasumo,otraotrarata,otraotrapata,otraotratata,otraotrasopa,otraotraotra,otraotrauno,otraotrasumo,otraunorata,otraunopata,otraunotata,otraunosopa,otraunootra,otraunouno,otraunosumo,otrasumorata,otrasumopata,otrasumotata,otrasumosopa,otrasumootra,otrasumouno,otrasumosumo,unoratarata,unoratapata,unoratatata,unoratasopa,unorataotra,unoratauno,unoratasumo,unopatarata,unopatapata,unopatatata,unopatasopa,unopataotra,unopatauno,unopatasumo,unotatarata,unotatapata,unotatatata,unotatasopa,unotataotra,unotatauno,unotatasumo,unosoparata,unosopapata,unosopatata,unosopasopa,unosopaotra,unosopauno,unosopasumo,unootrarata,unootrapata,unootratata,unootrasopa,unootraotra,unootrauno,unootrasumo,unounorata,unounopata,unounotata,unounosopa,unounootra,unounouno,unounosumo,unosumorata,unosumopata,unosumotata,unosumosopa,unosumootra,unosumouno,unosumosumo,sumoratarata,sumoratapata,sumoratatata,sumoratasopa,sumorataotra,sumoratauno,sumoratasumo,sumopatarata,sumopatapata,sumopatatata,sumopatasopa,sumopataotra,sumopatauno,sumopatasumo,sumotatarata,sumotatapata,sumotatatata,sumotatasopa,sumotataotra,sumotatauno,sumotatasumo,sumosoparata,sumosopapata,sumosopatata,sumosopasopa,sumosopaotra,sumosopauno,sumosopasumo,sumootrarata,sumootrapata,sumootratata,sumootrasopa,sumootraotra,sumootrauno,sumootrasumo,sumounorata,sumounopata,sumounotata,sumounosopa,sumounootra,sumounouno,sumounosumo,sumosumorata,sumosumopata,sumosumotata,sumosumosopa,sumosumootra,sumosumouno,sumosumosumo}\n",
            "|L1+| = 392\n",
            "L2+ = {adad,adbad,addad,adsad,adtat,admac,adotra,aduno,adtata,badad,badbad,baddad,badsad,badtat,badmac,badotra,baduno,badtata,dadad,dadbad,daddad,dadsad,dadtat,dadmac,dadotra,daduno,dadtata,sadad,sadbad,saddad,sadsad,sadtat,sadmac,sadotra,saduno,sadtata,tatad,tatbad,tatdad,tatsad,tattat,tatmac,tatotra,tatuno,tattata,macad,macbad,macdad,macsad,mactat,macmac,macotra,macuno,mactata,otraad,otrabad,otradad,otrasad,otratat,otramac,otraotra,otrauno,otratata,unoad,unobad,unodad,unosad,unotat,unomac,unootra,unouno,unotata,tataad,tatabad,tatadad,tatasad,tatatat,tatamac,tataotra,tatauno,tatatata,adadad,adadbad,adaddad,adadsad,adadtat,adadmac,adadotra,adaduno,adadtata,adbadad,adbadbad,adbaddad,adbadsad,adbadtat,adbadmac,adbadotra,adbaduno,adbadtata,addadad,addadbad,addaddad,addadsad,addadtat,addadmac,addadotra,addaduno,addadtata,adsadad,adsadbad,adsaddad,adsadsad,adsadtat,adsadmac,adsadotra,adsaduno,adsadtata,adtatad,adtatbad,adtatdad,adtatsad,adtattat,adtatmac,adtatotra,adtatuno,adtattata,admacad,admacbad,admacdad,admacsad,admactat,admacmac,admacotra,admacuno,admactata,adotraad,adotrabad,adotradad,adotrasad,adotratat,adotramac,adotraotra,adotrauno,adotratata,adunoad,adunobad,adunodad,adunosad,adunotat,adunomac,adunootra,adunouno,adunotata,adtataad,adtatabad,adtatadad,adtatasad,adtatatat,adtatamac,adtataotra,adtatauno,adtatatata,badadad,badadbad,badaddad,badadsad,badadtat,badadmac,badadotra,badaduno,badadtata,badbadad,badbadbad,badbaddad,badbadsad,badbadtat,badbadmac,badbadotra,badbaduno,badbadtata,baddadad,baddadbad,baddaddad,baddadsad,baddadtat,baddadmac,baddadotra,baddaduno,baddadtata,badsadad,badsadbad,badsaddad,badsadsad,badsadtat,badsadmac,badsadotra,badsaduno,badsadtata,badtatad,badtatbad,badtatdad,badtatsad,badtattat,badtatmac,badtatotra,badtatuno,badtattata,badmacad,badmacbad,badmacdad,badmacsad,badmactat,badmacmac,badmacotra,badmacuno,badmactata,badotraad,badotrabad,badotradad,badotrasad,badotratat,badotramac,badotraotra,badotrauno,badotratata,badunoad,badunobad,badunodad,badunosad,badunotat,badunomac,badunootra,badunouno,badunotata,badtataad,badtatabad,badtatadad,badtatasad,badtatatat,badtatamac,badtataotra,badtatauno,badtatatata,dadadad,dadadbad,dadaddad,dadadsad,dadadtat,dadadmac,dadadotra,dadaduno,dadadtata,dadbadad,dadbadbad,dadbaddad,dadbadsad,dadbadtat,dadbadmac,dadbadotra,dadbaduno,dadbadtata,daddadad,daddadbad,daddaddad,daddadsad,daddadtat,daddadmac,daddadotra,daddaduno,daddadtata,dadsadad,dadsadbad,dadsaddad,dadsadsad,dadsadtat,dadsadmac,dadsadotra,dadsaduno,dadsadtata,dadtatad,dadtatbad,dadtatdad,dadtatsad,dadtattat,dadtatmac,dadtatotra,dadtatuno,dadtattata,dadmacad,dadmacbad,dadmacdad,dadmacsad,dadmactat,dadmacmac,dadmacotra,dadmacuno,dadmactata,dadotraad,dadotrabad,dadotradad,dadotrasad,dadotratat,dadotramac,dadotraotra,dadotrauno,dadotratata,dadunoad,dadunobad,dadunodad,dadunosad,dadunotat,dadunomac,dadunootra,dadunouno,dadunotata,dadtataad,dadtatabad,dadtatadad,dadtatasad,dadtatatat,dadtatamac,dadtataotra,dadtatauno,dadtatatata,sadadad,sadadbad,sadaddad,sadadsad,sadadtat,sadadmac,sadadotra,sadaduno,sadadtata,sadbadad,sadbadbad,sadbaddad,sadbadsad,sadbadtat,sadbadmac,sadbadotra,sadbaduno,sadbadtata,saddadad,saddadbad,saddaddad,saddadsad,saddadtat,saddadmac,saddadotra,saddaduno,saddadtata,sadsadad,sadsadbad,sadsaddad,sadsadsad,sadsadtat,sadsadmac,sadsadotra,sadsaduno,sadsadtata,sadtatad,sadtatbad,sadtatdad,sadtatsad,sadtattat,sadtatmac,sadtatotra,sadtatuno,sadtattata,sadmacad,sadmacbad,sadmacdad,sadmacsad,sadmactat,sadmacmac,sadmacotra,sadmacuno,sadmactata,sadotraad,sadotrabad,sadotradad,sadotrasad,sadotratat,sadotramac,sadotraotra,sadotrauno,sadotratata,sadunoad,sadunobad,sadunodad,sadunosad,sadunotat,sadunomac,sadunootra,sadunouno,sadunotata,sadtataad,sadtatabad,sadtatadad,sadtatasad,sadtatatat,sadtatamac,sadtataotra,sadtatauno,sadtatatata,tatadbad,tataddad,tatadsad,tatadtat,tatadmac,tatadotra,tataduno,tatadtata,tatbadad,tatbadbad,tatbaddad,tatbadsad,tatbadtat,tatbadmac,tatbadotra,tatbaduno,tatbadtata,tatdadad,tatdadbad,tatdaddad,tatdadsad,tatdadtat,tatdadmac,tatdadotra,tatdaduno,tatdadtata,tatsadad,tatsadbad,tatsaddad,tatsadsad,tatsadtat,tatsadmac,tatsadotra,tatsaduno,tatsadtata,tattatad,tattatbad,tattatdad,tattatsad,tattattat,tattatmac,tattatotra,tattatuno,tattattata,tatmacad,tatmacbad,tatmacdad,tatmacsad,tatmactat,tatmacmac,tatmacotra,tatmacuno,tatmactata,tatotraad,tatotrabad,tatotradad,tatotrasad,tatotratat,tatotramac,tatotraotra,tatotrauno,tatotratata,tatunoad,tatunobad,tatunodad,tatunosad,tatunotat,tatunomac,tatunootra,tatunouno,tatunotata,tattataad,tattatabad,tattatadad,tattatasad,tattatatat,tattatamac,tattataotra,tattatauno,tattatatata,macadad,macadbad,macaddad,macadsad,macadtat,macadmac,macadotra,macaduno,macadtata,macbadad,macbadbad,macbaddad,macbadsad,macbadtat,macbadmac,macbadotra,macbaduno,macbadtata,macdadad,macdadbad,macdaddad,macdadsad,macdadtat,macdadmac,macdadotra,macdaduno,macdadtata,macsadad,macsadbad,macsaddad,macsadsad,macsadtat,macsadmac,macsadotra,macsaduno,macsadtata,mactatad,mactatbad,mactatdad,mactatsad,mactattat,mactatmac,mactatotra,mactatuno,mactattata,macmacad,macmacbad,macmacdad,macmacsad,macmactat,macmacmac,macmacotra,macmacuno,macmactata,macotraad,macotrabad,macotradad,macotrasad,macotratat,macotramac,macotraotra,macotrauno,macotratata,macunoad,macunobad,macunodad,macunosad,macunotat,macunomac,macunootra,macunouno,macunotata,mactataad,mactatabad,mactatadad,mactatasad,mactatatat,mactatamac,mactataotra,mactatauno,mactatatata,otraadad,otraadbad,otraaddad,otraadsad,otraadtat,otraadmac,otraadotra,otraaduno,otraadtata,otrabadad,otrabadbad,otrabaddad,otrabadsad,otrabadtat,otrabadmac,otrabadotra,otrabaduno,otrabadtata,otradadad,otradadbad,otradaddad,otradadsad,otradadtat,otradadmac,otradadotra,otradaduno,otradadtata,otrasadad,otrasadbad,otrasaddad,otrasadsad,otrasadtat,otrasadmac,otrasadotra,otrasaduno,otrasadtata,otratatad,otratatbad,otratatdad,otratatsad,otratattat,otratatmac,otratatotra,otratatuno,otratattata,otramacad,otramacbad,otramacdad,otramacsad,otramactat,otramacmac,otramacotra,otramacuno,otramactata,otraotraad,otraotrabad,otraotradad,otraotrasad,otraotratat,otraotramac,otraotraotra,otraotrauno,otraotratata,otraunoad,otraunobad,otraunodad,otraunosad,otraunotat,otraunomac,otraunootra,otraunouno,otraunotata,otratataad,otratatabad,otratatadad,otratatasad,otratatatat,otratatamac,otratataotra,otratatauno,otratatatata,unoadad,unoadbad,unoaddad,unoadsad,unoadtat,unoadmac,unoadotra,unoaduno,unoadtata,unobadad,unobadbad,unobaddad,unobadsad,unobadtat,unobadmac,unobadotra,unobaduno,unobadtata,unodadad,unodadbad,unodaddad,unodadsad,unodadtat,unodadmac,unodadotra,unodaduno,unodadtata,unosadad,unosadbad,unosaddad,unosadsad,unosadtat,unosadmac,unosadotra,unosaduno,unosadtata,unotatad,unotatbad,unotatdad,unotatsad,unotattat,unotatmac,unotatotra,unotatuno,unotattata,unomacad,unomacbad,unomacdad,unomacsad,unomactat,unomacmac,unomacotra,unomacuno,unomactata,unootraad,unootrabad,unootradad,unootrasad,unootratat,unootramac,unootraotra,unootrauno,unootratata,unounoad,unounobad,unounodad,unounosad,unounotat,unounomac,unounootra,unounouno,unounotata,unotataad,unotatabad,unotatadad,unotatasad,unotatatat,unotatamac,unotataotra,unotatauno,unotatatata,tataadad,tataadbad,tataaddad,tataadsad,tataadtat,tataadmac,tataadotra,tataaduno,tataadtata,tatabadad,tatabadbad,tatabaddad,tatabadsad,tatabadtat,tatabadmac,tatabadotra,tatabaduno,tatabadtata,tatadadad,tatadadbad,tatadaddad,tatadadsad,tatadadtat,tatadadmac,tatadadotra,tatadaduno,tatadadtata,tatasadad,tatasadbad,tatasaddad,tatasadsad,tatasadtat,tatasadmac,tatasadotra,tatasaduno,tatasadtata,tatatatad,tatatatbad,tatatatdad,tatatatsad,tatatattat,tatatatmac,tatatatotra,tatatatuno,tatatattata,tatamacad,tatamacbad,tatamacdad,tatamacsad,tatamactat,tatamacmac,tatamacotra,tatamacuno,tatamactata,tataotraad,tataotrabad,tataotradad,tataotrasad,tataotratat,tataotramac,tataotraotra,tataotrauno,tataotratata,tataunoad,tataunobad,tataunodad,tataunosad,tataunotat,tataunomac,tataunootra,tataunouno,tataunotata,tatatataad,tatatatabad,tatatatadad,tatatatasad,tatatatatat,tatatatamac,tatatataotra,tatatatauno,tatatatatata}\n",
            "|L2+| = 809\n",
            "L3+ = {cocococo,cocoloco,cocopata,cocorata,cocootra,cocosumo,locococo,locoloco,locopata,locorata,locootra,locosumo,patacoco,pataloco,patapata,patarata,pataotra,patasumo,ratacoco,rataloco,ratapata,ratarata,rataotra,ratasumo,otracoco,otraloco,otrapata,otrarata,otraotra,otrasumo,sumococo,sumoloco,sumopata,sumorata,sumootra,sumosumo,cocococococo,cocococoloco,cocococopata,cocococorata,cocococootra,cocococosumo,cocolocococo,cocolocoloco,cocolocopata,cocolocorata,cocolocootra,cocolocosumo,cocopatacoco,cocopataloco,cocopatapata,cocopatarata,cocopataotra,cocopatasumo,cocoratacoco,cocorataloco,cocoratapata,cocoratarata,cocorataotra,cocoratasumo,cocootracoco,cocootraloco,cocootrapata,cocootrarata,cocootraotra,cocootrasumo,cocosumococo,cocosumoloco,cocosumopata,cocosumorata,cocosumootra,cocosumosumo,locococococo,locococoloco,locococopata,locococorata,locococootra,locococosumo,locolocococo,locolocoloco,locolocopata,locolocorata,locolocootra,locolocosumo,locopatacoco,locopataloco,locopatapata,locopatarata,locopataotra,locopatasumo,locoratacoco,locorataloco,locoratapata,locoratarata,locorataotra,locoratasumo,locootracoco,locootraloco,locootrapata,locootrarata,locootraotra,locootrasumo,locosumococo,locosumoloco,locosumopata,locosumorata,locosumootra,locosumosumo,patacocococo,patacocoloco,patacocopata,patacocorata,patacocootra,patacocosumo,patalocococo,patalocoloco,patalocopata,patalocorata,patalocootra,patalocosumo,patapatacoco,patapataloco,patapatapata,patapatarata,patapataotra,patapatasumo,pataratacoco,patarataloco,pataratapata,pataratarata,patarataotra,pataratasumo,pataotracoco,pataotraloco,pataotrapata,pataotrarata,pataotraotra,pataotrasumo,patasumococo,patasumoloco,patasumopata,patasumorata,patasumootra,patasumosumo,ratacocococo,ratacocoloco,ratacocopata,ratacocorata,ratacocootra,ratacocosumo,ratalocococo,ratalocoloco,ratalocopata,ratalocorata,ratalocootra,ratalocosumo,ratapatacoco,ratapataloco,ratapatapata,ratapatarata,ratapataotra,ratapatasumo,rataratacoco,ratarataloco,rataratapata,rataratarata,ratarataotra,rataratasumo,rataotracoco,rataotraloco,rataotrapata,rataotrarata,rataotraotra,rataotrasumo,ratasumococo,ratasumoloco,ratasumopata,ratasumorata,ratasumootra,ratasumosumo,otracocococo,otracocoloco,otracocopata,otracocorata,otracocootra,otracocosumo,otralocococo,otralocoloco,otralocopata,otralocorata,otralocootra,otralocosumo,otrapatacoco,otrapataloco,otrapatapata,otrapatarata,otrapataotra,otrapatasumo,otraratacoco,otrarataloco,otraratapata,otraratarata,otrarataotra,otraratasumo,otraotracoco,otraotraloco,otraotrapata,otraotrarata,otraotraotra,otraotrasumo,otrasumococo,otrasumoloco,otrasumopata,otrasumorata,otrasumootra,otrasumosumo,sumococococo,sumococoloco,sumococopata,sumococorata,sumococootra,sumococosumo,sumolocococo,sumolocoloco,sumolocopata,sumolocorata,sumolocootra,sumolocosumo,sumopatacoco,sumopataloco,sumopatapata,sumopatarata,sumopataotra,sumopatasumo,sumoratacoco,sumorataloco,sumoratapata,sumoratarata,sumorataotra,sumoratasumo,sumootracoco,sumootraloco,sumootrapata,sumootrarata,sumootraotra,sumootrasumo,sumosumococo,sumosumoloco,sumosumopata,sumosumorata,sumosumootra,sumosumosumo}\n",
            "|L3+| = 252\n"
          ]
        }
      ]
    }
  ]
}